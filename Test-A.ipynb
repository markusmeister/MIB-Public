{
  "nbformat": 4,
  "nbformat_minor": 0,
  "metadata": {
    "colab": {
      "provenance": [],
      "authorship_tag": "ABX9TyO2HINUwoeVOsF4gzh1n9k1",
      "include_colab_link": true
    },
    "kernelspec": {
      "name": "python3",
      "display_name": "Python 3"
    },
    "language_info": {
      "name": "python"
    }
  },
  "cells": [
    {
      "cell_type": "markdown",
      "metadata": {
        "id": "view-in-github",
        "colab_type": "text"
      },
      "source": [
        "<a href=\"https://colab.research.google.com/github/markusmeister/MIB-Public/blob/main/Test-A.ipynb\" target=\"_parent\"><img src=\"https://colab.research.google.com/assets/colab-badge.svg\" alt=\"Open In Colab\"/></a>"
      ]
    },
    {
      "cell_type": "code",
      "execution_count": 1,
      "metadata": {
        "colab": {
          "base_uri": "https://localhost:8080/"
        },
        "id": "1_nvn780Wbw5",
        "outputId": "01b4e230-6e32-449d-8d76-9bb7fbc1132d"
      },
      "outputs": [
        {
          "output_type": "stream",
          "name": "stdout",
          "text": [
            "$\\sqrt{x}$\n"
          ]
        }
      ],
      "source": [
        "print(r'$\\sqrt{x}$')"
      ]
    },
    {
      "cell_type": "code",
      "source": [
        "# prompt: print $x^2$ using Latex\n",
        "\n",
        "print(r'$x^2$')"
      ],
      "metadata": {
        "colab": {
          "base_uri": "https://localhost:8080/"
        },
        "id": "OKpyupRDWpi8",
        "outputId": "fc23ab34-ac20-443d-e3a1-9f73f1ad1483"
      },
      "execution_count": 2,
      "outputs": [
        {
          "output_type": "stream",
          "name": "stdout",
          "text": [
            "$x^2$\n"
          ]
        }
      ]
    },
    {
      "cell_type": "code",
      "source": [
        "# prompt: how to use latex in this notebook?\n",
        "\n",
        "from IPython.display import display, Math, Latex\n",
        "display(Math(r'\\sqrt{x}'))\n",
        "display(Latex(r'$x^2$'))\n"
      ],
      "metadata": {
        "colab": {
          "base_uri": "https://localhost:8080/",
          "height": 58
        },
        "id": "ewY_6neNW4F3",
        "outputId": "a62d7f97-8187-4a8a-e2a5-c871790525f6"
      },
      "execution_count": 3,
      "outputs": [
        {
          "output_type": "display_data",
          "data": {
            "text/plain": [
              "<IPython.core.display.Math object>"
            ],
            "text/latex": "$\\displaystyle \\sqrt{x}$"
          },
          "metadata": {}
        },
        {
          "output_type": "display_data",
          "data": {
            "text/plain": [
              "<IPython.core.display.Latex object>"
            ],
            "text/latex": "$x^2$"
          },
          "metadata": {}
        }
      ]
    },
    {
      "cell_type": "code",
      "source": [],
      "metadata": {
        "id": "T4laTec9W-aR"
      },
      "execution_count": null,
      "outputs": []
    },
    {
      "cell_type": "markdown",
      "source": [
        "This is also math: $\\sqrt{x}$"
      ],
      "metadata": {
        "id": "-lqnsWm2XCni"
      }
    },
    {
      "cell_type": "code",
      "source": [
        "# prompt: plot x^2 vs x using matplotlib\n",
        "\n",
        "import matplotlib.pyplot as plt\n",
        "import numpy as np\n",
        "\n",
        "# Generate x values\n",
        "x = np.linspace(-5, 5, 100)\n",
        "\n",
        "# Calculate y values (x^2)\n",
        "y = x**2\n",
        "\n",
        "# Create the plot\n",
        "plt.plot(x, y)\n",
        "\n",
        "# Add labels and title\n",
        "plt.xlabel(\"$x$\")\n",
        "plt.ylabel(\"$x^2$\")\n",
        "plt.title(\"Plot of $x^2$ vs $x$\")\n",
        "\n",
        "# Display the plot\n",
        "plt.grid(True)\n",
        "plt.show()"
      ],
      "metadata": {
        "colab": {
          "base_uri": "https://localhost:8080/",
          "height": 474
        },
        "id": "0DFdUI71XI4r",
        "outputId": "81c2cce8-d16a-4b18-db44-c3ac912cdf33"
      },
      "execution_count": 6,
      "outputs": [
        {
          "output_type": "display_data",
          "data": {
            "text/plain": [
              "<Figure size 640x480 with 1 Axes>"
            ],
            "image/png": "[encoded data removed]"
          },
          "metadata": {}
        }
      ]
    },
    {
      "cell_type": "code",
      "source": [],
      "metadata": {
        "id": "okoRo7Y4XQug"
      },
      "execution_count": null,
      "outputs": []
    }
  ]
}