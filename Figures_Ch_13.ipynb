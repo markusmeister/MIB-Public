{
  "cells": [
    {
      "cell_type": "markdown",
      "metadata": {
        "id": "GaAaDRH2Xxs8"
      },
      "source": [
        "<a target=\"_blank\" href=\"https://colab.research.google.com/github/markusmeister/MIB-Public/blob/master/Figures_Ch_13.ipynb\">\n",
        "  <img src=\"https://colab.research.google.com/assets/colab-badge.svg\" alt=\"Open In Colab\"/>\n",
        "</a>"
      ]
    },
    {
      "cell_type": "markdown",
      "metadata": {
        "id": "CN05mvzkXxs8"
      },
      "source": [
        "# Ch 13 - Applications of Nonlinear Dynamics\n",
        "\n",
        "This notebook contains python code for generating figures in Chapter 13 of the book _Mathematics in Biology_."
      ]
    },
    {
      "cell_type": "markdown",
      "metadata": {
        "id": "sXZRp-kuXxs9"
      },
      "source": [
        "## Imports and utilities"
      ]
    },
    {
      "cell_type": "code",
      "execution_count": 13,
      "metadata": {
        "id": "0Cz1gM9XXxs-"
      },
      "outputs": [],
      "source": [
        "import numpy as np\n",
        "from pathlib import Path\n",
        "import matplotlib\n",
        "from matplotlib import pyplot as plt\n",
        "from matplotlib.markers import MarkerStyle\n",
        "import matplotlib.gridspec as gridspec\n",
        "import PIL\n",
        "import urllib\n",
        "\n",
        "\n",
        "# set font to be used in figures\n",
        "import matplotlib.font_manager as font_manager\n",
        "matplotlib.rcParams['mathtext.fontset'] = 'cm'\n",
        "matplotlib.rcParams['font.family'] = 'serif'\n",
        "cmfont = font_manager.FontProperties(fname=matplotlib.get_data_path() + '/fonts/ttf/cmr10.ttf')\n",
        "matplotlib.rcParams['font.serif']=cmfont.get_name()\n",
        "matplotlib.rcParams['axes.formatter.use_mathtext'] = True\n",
        "matplotlib.rcParams['axes.unicode_minus']=False\n",
        "matplotlib.rcParams['font.size'] = 11\n",
        "\n",
        "data_url = 'https://raw.githubusercontent.com/markusmeister/MIB-Public/master/data/'\n",
        "\n",
        "\n",
        "Save = False # set to True if you are saving figures to a local drive\n",
        "if Save:\n",
        "    # set path to save the figures\n",
        "    savedir = Path('../img')\n",
        "    savedir.mkdir(parents=True, exist_ok=True)"
      ]
    },
    {
      "cell_type": "code",
      "execution_count": 14,
      "metadata": {
        "id": "LNp5nMBTXxs-"
      },
      "outputs": [],
      "source": [
        "# Utilities for plotting\n",
        "\n",
        "def plot(X, Y=None, xlabel=None, ylabel=None, legend=[], loc=None, title=None, alpha=1.0,\n",
        "         xlim=None, ylim=None, xscale='linear', yscale='linear',\n",
        "         xticks=None, yticks=None, xhide=False, yhide=False, yrot=False,\n",
        "         xzero=False, yzero=False, yflip=False,\n",
        "         fmts=['r-','g-','b-','y-','c-','m-'], linewidth=2, markersize=5, fillstyle='full',\n",
        "         markeredgewidth=1, rasterized=False,\n",
        "         grid=False, equal=False, figsize=(5,3), axes=None):\n",
        "    \"\"\"\n",
        "    Plot data points.\n",
        "    X: an array or list of arrays\n",
        "    Y: an array or list of arrays\n",
        "    If Y exists then those values are plotted vs the X values\n",
        "    If Y doesn't exist the X values are plotted\n",
        "    xlabel, ylabel: axis labels\n",
        "    legend: list of labels for each Y series\n",
        "    loc: location of the legend, like 'upper right'\n",
        "    title: duh\n",
        "    xlim, ylim: [low,high] list of limits for the 2 axes\n",
        "    xscale, yscale: 'linear' or 'log'\n",
        "    xticks, yticks: list of locations for tick marks, or None for auto ticks\n",
        "    yhide: hide the y axis?\n",
        "    yrot: rotate the yaxis label to horizontal?\n",
        "    yzero: zero line for the y-axis?\n",
        "    fmts: a list of format strings to be applied to successive Y-series\n",
        "    linewidth, markersize, fillstyle, markeredgewidth: see docs\n",
        "    grid: draw a grid?\n",
        "    equal: use equal aspect ratio, i.e. same scale per unit on x and y axis?\n",
        "    figsize: (h,v) in inches\n",
        "    rasterized: rasterize the data portion of the graph?\n",
        "    axes: pre-existing axes where to draw the plot\n",
        "    Returns: axes for the plot\n",
        "    \"\"\"\n",
        "\n",
        "    if not axes: # start a new figure\n",
        "        fig = plt.figure(figsize=figsize)\n",
        "        axes = plt.gca()\n",
        "\n",
        "    def has_one_axis(X): # Return True if X (ndarray or list) has 1 axis\n",
        "        return (hasattr(X, \"ndim\") and X.ndim == 1 or isinstance(X, list)\n",
        "                and not hasattr(X[0], \"__len__\"))\n",
        "\n",
        "    if has_one_axis(X):\n",
        "        X = [X]\n",
        "    if Y is None:\n",
        "        X, Y = [[]] * len(X), X\n",
        "    elif has_one_axis(Y):\n",
        "        Y = [Y]\n",
        "    if len(X) != len(Y):\n",
        "        X = X * len(Y)\n",
        "    # axes.cla() # clears these axes\n",
        "    for x, y, fmt in zip(X, Y, fmts):\n",
        "        if len(x):\n",
        "            axes.plot(x, y, fmt, linewidth=linewidth, markersize=markersize,\n",
        "            \tfillstyle=fillstyle,markeredgewidth=markeredgewidth,\n",
        "            \trasterized=rasterized, alpha=alpha)\n",
        "        else:\n",
        "            axes.plot(y, fmt, linewidth=linewidth, markersize=markersize,\n",
        "            \tfillstyle=fillstyle,markeredgewidth=markeredgewidth,\n",
        "            \trasterized=rasterized, alpha=alpha)\n",
        "    set_axes(axes, xlabel, ylabel, legend, loc, xlim, ylim, xscale, yscale,\n",
        "             xticks, yticks, xhide, yhide, yrot, xzero, yzero, yflip, grid, equal)\n",
        "    if title:\n",
        "        plt.title(title)\n",
        "    plt.tight_layout()\n",
        "\n",
        "    return axes # useful if we started a new figure\n",
        "\n",
        "def hist(X, bins=50, range=None, density=None, weights=None, histtype='stepfilled', stacked=False,\n",
        "         align='mid', color=['r','g','b','m'], alpha=0.5, linewidth=1,\n",
        "         xlabel=None, ylabel=None, legend=[], loc=None, title=None,\n",
        "         xlim=None, ylim=None, xscale='linear', yscale='linear',\n",
        "         xticks=None, yticks=None, xhide=False, yhide=False, yrot=False,\n",
        "         xzero=False, yzero=False, yflip=False,\n",
        "         grid=False, figsize=(5,3), axes=None, orientation='vertical'):\n",
        "    \"\"\"\n",
        "    Histogram data.\n",
        "    X: an array or list of arrays to be histogrammed\n",
        "    bins: the number of bins, or a list of edges\n",
        "    range: [low,high] the range over which the bins are spread\n",
        "    density: normalize to unit area?\n",
        "    weights: array same shape as X; each value in X only contributes that weight.\n",
        "    histtype: 'bar','barstacked','step','stepfilled'\n",
        "    stacked: plot multiple series on top of each other?\n",
        "    align: 'left','mid',right', center the bar on left edge, center, or right edge of bin\n",
        "    color: list of colors for the data series\n",
        "    alpha: opacity, useful if histtype='stepfilled'\n",
        "    xlabel, ylabel: axis labels\n",
        "    legend: list of labels for each Y series\n",
        "    loc: location of the legend, like 'upper right'\n",
        "    title: duh\n",
        "    xlim, ylim: [low,high] list of limits for the 2 axes\n",
        "    xscale, yscale: 'linear' or 'log'\n",
        "    xticks, yticks: list of locations for tick marks, or None for auto ticks\n",
        "    yhide: hide the y axis?\n",
        "    yrot: rotate the yaxis label to horizontal?\n",
        "    yzero: zero line for the y-axis?\n",
        "    grid: draw a grid?\n",
        "    figsize: (h,v) in inches\n",
        "    axes: pre-existing axes where to draw the plot\n",
        "    Returns: axes, n, bins, patches\n",
        "    \"\"\"\n",
        "\n",
        "    if not axes: # start a new figure\n",
        "        fig,ax = plt.subplots(figsize=figsize)\n",
        "    else:\n",
        "    \tax=axes\n",
        "\n",
        "    def has_one_axis(X): # Return True if X (ndarray or list) has 1 axis\n",
        "        return (hasattr(X, \"ndim\") and X.ndim == 1 or isinstance(X, list) and not hasattr(X[0], \"__len__\"))\n",
        "\n",
        "    if has_one_axis(X):\n",
        "        ndata=1\n",
        "    else:\n",
        "        ndata=len(X) # assuming it is an ndarray or a list of lists\n",
        "\n",
        "    if len(color)<ndata: # if there aren't enough dolors provided\n",
        "        col=None # use the default color sequence\n",
        "    else:\n",
        "        col=color[:ndata]\n",
        "\n",
        "    if histtype=='step' or histtype=='stepfilled': # in these cases the legend sequence needs to be inverted for some reason\n",
        "        if isinstance(legend, list):\n",
        "        \tlegend = legend[-1::-1]\n",
        "\n",
        "    n, bins, patches = ax.hist(X, bins=bins, range=range, density=density, weights=weights,\n",
        "                               histtype=histtype, stacked=stacked, align=align,\n",
        "                               color=col, alpha=alpha, linewidth=linewidth,\n",
        "                               label=legend, orientation=orientation)\n",
        "\n",
        "    set_axes(ax, xlabel, ylabel, legend, loc, xlim, ylim, xscale, yscale,\n",
        "    \txticks, yticks, xhide, yhide, yrot, xzero, yzero, yflip, grid, equal=False)\n",
        "\n",
        "    if title:\n",
        "        plt.title(title)\n",
        "    if not axes:\n",
        "    \tplt.tight_layout() # otherwise let the caller take care of layout\n",
        "\n",
        "    return ax, n, bins, patches # useful if we started a new figure\n",
        "\n",
        "def set_axes(axes, xlabel, ylabel, legend, loc, xlim, ylim, xscale, yscale,\n",
        "    \txticks, yticks, xhide, yhide, yrot, xzero, yzero, yflip, grid, equal):\n",
        "    \"\"\"Set the axes for matplotlib.\"\"\"\n",
        "    axes.set_xscale(xscale)\n",
        "    axes.set_yscale(yscale)\n",
        "    if xlim:\n",
        "        axes.set_xlim(xlim)\n",
        "    else:\n",
        "        axes.set_xlim(auto=True)\n",
        "    if ylim:\n",
        "        axes.set_ylim(ylim)\n",
        "    else:\n",
        "        axes.set_ylim(auto=True)\n",
        "    if grid:\n",
        "        axes.grid()\n",
        "    if equal:\n",
        "        axes.set_aspect(aspect='equal')\n",
        "    if ylabel:\n",
        "        if yrot:\n",
        "            axes.set_ylabel(ylabel, fontsize=12, rotation=0, labelpad=15)\n",
        "        else:\n",
        "            axes.set_ylabel(ylabel, fontsize=12)\n",
        "    if xlabel:\n",
        "        axes.set_xlabel(xlabel, fontsize=12)\n",
        "    axes.get_yaxis().set_visible(not yhide)\n",
        "    axes.get_xaxis().set_visible(not xhide)\n",
        "    if xzero:\n",
        "        axes.axvline(color='black', linewidth=0.5)\n",
        "    if yzero:\n",
        "        axes.axhline(color='black', linewidth=0.5)\n",
        "    if yflip:\n",
        "        axes.invert_yaxis()\n",
        "    axes.tick_params(axis = 'both', which = 'major', labelsize = 10)\n",
        "    axes.tick_params(axis = 'both', which = 'minor', labelsize = 9)\n",
        "    if xticks != None:\n",
        "        axes.set_xticks(xticks); # no minor ticks\n",
        "    if yticks != None:\n",
        "        axes.set_yticks(yticks); # no minor ticks\n",
        "    if legend:\n",
        "        axes.legend(legend, loc=loc)\n",
        "    plt.draw()\n",
        "    #     To change the font and control the fontsize, can use some of these commands:\n",
        "    #     axes.set_xlabel(xlabel, fontname='Arial', fontsize = 12)\n",
        "    #     axes.set_ylabel(ylabel, fontname='Arial', fontsize = 12)\n",
        "    #     axes.tick_params(axis = 'both', which = 'major', labelsize = 10)\n",
        "    #     axes.tick_params(axis = 'both', which = 'minor', labelsize = 9)\n",
        "    #     plt.yticks(fontname = \"Arial\")\n",
        "    #     plt.xticks(fontname = \"Arial\")\n",
        "    #     if legend:\n",
        "    #         axes.legend(legend, prop={\"size\":12, \"family\":'Arial'})\n",
        "    #     For options on legend placement see https://stackoverflow.com/questions/4700614/how-to-put-the-legend-out-of-the-plot\n",
        "\n",
        "def test_plot():\n",
        "    x = np.arange(-10,10,.01)\n",
        "    t = [0.1,0.3,1,3,10]\n",
        "    y = [np.exp(-x**2/(4*ti))/np.sqrt(4*np.pi*ti) for ti in t]\n",
        "    plot (x,y,fmts=['r-','g-','b-','y-','c-','m-'],linewidth=1,\n",
        "        xlabel='Distance',ylabel='Concentration',yzero=True,\n",
        "        legend=['t=0.1','0.3','1','3','10'],xticks=[-10,-5,-1,0,1,5,10])"
      ]
    },
    {
      "cell_type": "markdown",
      "metadata": {
        "id": "NzY1wT4SXxs_"
      },
      "source": [
        "## Repressilator"
      ]
    },
    {
      "cell_type": "code",
      "execution_count": 15,
      "metadata": {
        "colab": {
          "base_uri": "https://localhost:8080/",
          "height": 204
        },
        "id": "-MVl_FyKXxtA",
        "outputId": "ac31790a-3958-4c41-caba-831cbb798121"
      },
      "outputs": [
        {
          "data": {
            "image/png": "[encoded data removed]",
            "text/plain": [
              "<Figure size 300x200 with 1 Axes>"
            ]
          },
          "metadata": {},
          "output_type": "display_data"
        }
      ],
      "source": [
        "def f(x,alpha=10,alpha_0=5e-4,n=2.0):\n",
        "    return alpha/(1+x**n)+alpha_0\n",
        "\n",
        "x = np.arange(0,10,0.1)\n",
        "y1 = x\n",
        "y2 = f(f(f(x)))\n",
        "\n",
        "fig, ax = plt.subplots(figsize=(3,2))\n",
        "legend = ['$y=P_{\\mathrm{lac}}$', '$y=f(f(f(P_{\\mathrm{lac}}))$']\n",
        "plot(x,[y1,y2], xlabel=\"$P_{\\mathrm{lac}}$\", axes=ax)\n",
        "# ax.text(7.5, 1, '$\\\\alpha=10$', fontsize=11)\n",
        "ax.legend(legend,frameon=False,loc='lower right', fontsize=10)\n",
        "ax.spines['top'].set_visible(False)\n",
        "ax.spines['right'].set_visible(False)\n",
        "ax.set_ylabel('$y$', rotation=0, fontdict={'fontsize':12})\n",
        "ax.set_yticks([])\n",
        "ax.set_xticks([])\n",
        "fig.tight_layout();\n",
        "if Save:\n",
        "    fig.savefig(str(savedir / 'repressilator-fp.pdf'), bbox_inches='tight');\n",
        "    fig.savefig(str(savedir / 'repressilator-fp.svg'), bbox_inches='tight');"
      ]
    },
    {
      "cell_type": "code",
      "execution_count": 16,
      "metadata": {
        "colab": {
          "base_uri": "https://localhost:8080/",
          "height": 441
        },
        "id": "D1YX02TfXxtA",
        "outputId": "ae6dd048-f176-4ae5-adc0-448ac4bfda8b"
      },
      "outputs": [
        {
          "data": {
            "image/png": "[encoded data removed]",
            "text/plain": [
              "<Figure size 400x250 with 1 Axes>"
            ]
          },
          "metadata": {},
          "output_type": "display_data"
        },
        {
          "data": {
            "image/png": "[encoded data removed]",
            "text/plain": [
              "<Figure size 600x200 with 4 Axes>"
            ]
          },
          "metadata": {},
          "output_type": "display_data"
        }
      ],
      "source": [
        "from scipy.integrate import odeint\n",
        "\n",
        "# model for the dynamical system\n",
        "def model(x,t):\n",
        "    \"\"\"\n",
        "    Repressilator model.\n",
        "    index:\n",
        "        0: lacI\n",
        "        1: tetR\n",
        "        2: cl\n",
        "    \"\"\"\n",
        "    # parameters\n",
        "    alpha = 200\n",
        "    alpha0 = 5e-4\n",
        "    beta = 4.0\n",
        "    n = 2.0\n",
        "    # unpack\n",
        "    m0, m1, m2, p0, p1, p2 = x\n",
        "    # diff eqs\n",
        "    m0_dot = -m0 + alpha / (1.0 + p2**n) + alpha0\n",
        "    m1_dot = -m1 + alpha / (1.0 + p0**n) + alpha0\n",
        "    m2_dot = -m2 + alpha / (1.0 + p1**n) + alpha0\n",
        "    p0_dot = -beta*(p0-m0)\n",
        "    p1_dot = -beta*(p1-m1)\n",
        "    p2_dot = -beta*(p2-m2)\n",
        "    return [m0_dot,m1_dot,m2_dot,p0_dot,p1_dot,p2_dot]\n",
        "\n",
        "# initial conditions\n",
        "x0 = [0.01,0.02,0.03,0.0,0.0,0.0]\n",
        "\n",
        "# time points\n",
        "t = np.linspace(0,100,1000)\n",
        "\n",
        "# solve!\n",
        "x = odeint(model,x0,t)\n",
        "\n",
        "# dimensional (re)scaling\n",
        "mRNA_half_life = 2 # minutes\n",
        "K_M = 40 # monomers per cell\n",
        "x = x*K_M\n",
        "t = t*mRNA_half_life\n",
        "\n",
        "fig, ax = plt.subplots(figsize=(4,2.5))\n",
        "ax.plot(t,x[:,3],'b-',label='lacI')\n",
        "ax.plot(t,x[:,4],'r-',label='tetR')\n",
        "ax.plot(t,x[:,5],'g-',label='$\\lambda$cl')\n",
        "ax.set_ylabel('Concentration\\n(monomers per cell)')\n",
        "ax.set_xlabel('Time (min)')\n",
        "ax.legend(loc='best', frameon=False)\n",
        "ax.spines['top'].set_visible(False)\n",
        "ax.spines['right'].set_visible(False)\n",
        "fig.tight_layout()\n",
        "if Save:\n",
        "    fig.savefig(str(savedir / 'repressilator-time-evolution.pdf'), bbox_inches='tight');\n",
        "    fig.savefig(str(savedir / 'repressilator-time-evolution.svg'), bbox_inches='tight');\n",
        "\n",
        "# phase space\n",
        "fig = plt.figure(figsize=(6,2))\n",
        "gs = gridspec.GridSpec(1, 4, width_ratios=[1,1,1,0.05])  # Adjust width ratios as needed\n",
        "ax0 = fig.add_subplot(gs[0])\n",
        "ax1 = fig.add_subplot(gs[1])\n",
        "ax2 = fig.add_subplot(gs[2])\n",
        "ax3 = fig.add_subplot(gs[3])\n",
        "\n",
        "ax0.set_xticks([])\n",
        "ax1.set_xticks([])\n",
        "ax2.set_xticks([])\n",
        "\n",
        "ax0.set_yticks([])\n",
        "ax1.set_yticks([])\n",
        "ax2.set_yticks([])\n",
        "\n",
        "ax0.spines['top'].set_visible(False)\n",
        "ax0.spines['right'].set_visible(False)\n",
        "ax1.spines['top'].set_visible(False)\n",
        "ax1.spines['right'].set_visible(False)\n",
        "ax2.spines['top'].set_visible(False)\n",
        "ax2.spines['right'].set_visible(False)\n",
        "\n",
        "import matplotlib.pyplot as plt\n",
        "import numpy as np\n",
        "from matplotlib.collections import LineCollection\n",
        "from matplotlib.colors import ListedColormap, BoundaryNorm\n",
        "import matplotlib.colors as mcolors\n",
        "\n",
        "def create_line_collection(t, x, y, cmap = plt.cm.viridis):\n",
        "    # Create line segments\n",
        "    points = np.array([x, y]).T.reshape(-1, 1, 2)\n",
        "    segments = np.concatenate([points[:-1], points[1:]], axis=1)\n",
        "    # Create a colormap for time data\n",
        "    n_colors = len(x)  # Increase this number as needed\n",
        "    new_colors = cmap(np.linspace(0, 1, n_colors))\n",
        "    interpolated_cmap = mcolors.LinearSegmentedColormap.from_list(\"interpolated_cmap\", new_colors, N=n_colors)\n",
        "    # norm = BoundaryNorm(np.linspace(0, 1, N), cmap.N)\n",
        "\n",
        "    # Create a LineCollection\n",
        "    lc = LineCollection(segments, cmap=interpolated_cmap)\n",
        "    lc.set_array(t)\n",
        "    return lc\n",
        "\n",
        "t_end_idx = 600\n",
        "lc = create_line_collection(t[:t_end_idx], x[:t_end_idx,3], x[:t_end_idx,4])\n",
        "ax0.add_collection(lc)\n",
        "lc = create_line_collection(t[:t_end_idx], x[:t_end_idx,4], x[:t_end_idx,5])\n",
        "ax1.add_collection(lc)\n",
        "lc = create_line_collection(t[:t_end_idx], x[:t_end_idx,3], x[:t_end_idx,5])\n",
        "ax2.add_collection(lc)\n",
        "\n",
        "ax0.autoscale()\n",
        "ax1.autoscale()\n",
        "ax2.autoscale()\n",
        "\n",
        "ax0.set_title(\"lacI vs. tetR\")\n",
        "ax1.set_title(\"tetR vs. $\\lambda$cl\")\n",
        "ax2.set_title(\"lacI vs. $\\lambda$cl\")\n",
        "\n",
        "# ax0.set_axis_off()\n",
        "# ax1.set_axis_off()\n",
        "# ax2.set_axis_off()\n",
        "\n",
        "# Adding a colorbar\n",
        "cbar = plt.colorbar(lc, cax=ax3)\n",
        "cbar.set_label('Time (min)', rotation=270)\n",
        "# cbar.ax.yaxis.set_label_coords(-0.5, 0.5)\n",
        "fig.tight_layout()\n",
        "if Save:\n",
        "    fig.savefig(str(savedir / 'Repressilator-2DTraj.pdf'), bbox_inches='tight');\n",
        "    fig.savefig(str(savedir / 'Repressilator-2DTraj.svg'), bbox_inches='tight');\n",
        "\n"
      ]
    },
    {
      "cell_type": "markdown",
      "metadata": {
        "id": "wbijm3w6XxtB"
      },
      "source": [
        "## Fold change detection"
      ]
    },
    {
      "cell_type": "code",
      "execution_count": 20,
      "metadata": {
        "colab": {
          "base_uri": "https://localhost:8080/",
          "height": 1000
        },
        "id": "IIttf0bgXxtC",
        "outputId": "af1b7cfe-4f2d-40f8-c38d-d18ddea122d9"
      },
      "outputs": [
        {
          "data": {
            "image/png": "[encoded data removed]",
            "text/plain": [
              "<Figure size 500x300 with 2 Axes>"
            ]
          },
          "metadata": {},
          "output_type": "display_data"
        }
      ],
      "source": [
        "import matplotlib.patches as patches\n",
        "\n",
        "# fig, axes = plt.subplots(nrows=1, ncols=2, figsize=(5,3)) #, gridspec_kw={'height_ratios': [2,3,4]})\n",
        "fig, (ax1, ax2) = plt.subplots(nrows=1, ncols=2, figsize=(5,3), gridspec_kw={'width_ratios': [3, 1]})\n",
        "\n",
        "# axes[0].set_xlim([-0.5,2*np.pi+0.2])\n",
        "# axes[0].set_ylim([-1.2,1.2])\n",
        "ax2.text(0,1.005,r'B',fontsize=10,color='k',ha='center',va='center')\n",
        "ax2.text(0.5,0.8,r'$X$',fontsize=14,color='k',ha='center',va='center')\n",
        "ax2.text(0.5,0.5,r'$Y$',fontsize=14,color='k',ha='center',va='center')\n",
        "ax2.text(0.5,0.2,r'$Z$',fontsize=14,color='k',ha='center',va='center')\n",
        "\n",
        "ax2.add_patch(patches.FancyArrowPatch(posA=(0.5, 0.75), posB=(0.5, 0.55),\n",
        "                                          lw=1, arrowstyle=u'-|>',\n",
        "                                          mutation_scale=10,color='black'))\n",
        "ax2.add_patch(patches.FancyArrowPatch(posA=(0.5, 0.45), posB=(0.5, 0.25),\n",
        "                                          lw=1, arrowstyle=u'|-|, widthA=0, widthB=1',\n",
        "                                          mutation_scale=5,color='black'))\n",
        "ax2.add_patch(patches.FancyArrowPatch(posA=(0.44, 0.78), posB=(0.44, 0.22), connectionstyle=\"arc3,rad=0.5\",\n",
        "                                          lw=1, arrowstyle=u'-|>',\n",
        "                                          mutation_scale=10,color='black'))\n",
        "\n",
        "ax2.set_axis_off()\n",
        "\n",
        "import matplotlib.image as mpimg\n",
        "\n",
        "im2 = np.array(PIL.Image.open(urllib.request.urlopen(data_url + 'fcd_vec.png')))\n",
        "ax1.imshow(im2,cmap='gray',aspect='auto')\n",
        "ax1.text(-2,-10,r'A',fontsize=10,color='k',ha='center',va='center')\n",
        "ax1.set_axis_off()\n",
        "fig.tight_layout()\n",
        "\n",
        "if Save:\n",
        "    fig.savefig(str(savedir / 'fcd_combined.pdf'), bbox_inches='tight');\n",
        "    fig.savefig(str(savedir / 'fcd_combined.svg'), bbox_inches='tight');"
      ]
    },
    {
      "cell_type": "code",
      "execution_count": null,
      "metadata": {
        "colab": {
          "base_uri": "https://localhost:8080/",
          "height": 404
        },
        "id": "6UoHrV6KXxtC",
        "outputId": "d4b940af-f28b-47ac-af25-0cf1d4fd32be"
      },
      "outputs": [],
      "source": [
        "from scipy.integrate import odeint\n",
        "\n",
        "# model for the dynamical system\n",
        "def model(x,t):\n",
        "    \"\"\"\n",
        "    FCD\n",
        "    \"\"\"\n",
        "    # parameters\n",
        "    alpha_1 = 1.0\n",
        "    alpha_2 = 1.0\n",
        "    beta_1 = 200.0\n",
        "    beta_2 = 10.0\n",
        "    K_XY = 1000\n",
        "    K_XZ = 1000\n",
        "    K_YZ = 0.001\n",
        "\n",
        "    # unpack\n",
        "    X, Y, Z = x\n",
        "\n",
        "    # diff eqs\n",
        "    X_dot = 0\n",
        "    Y_dot = -alpha_1*Y + beta_1*X/K_XY / (1+X/K_XY)\n",
        "    Z_dot = -alpha_2*Z + beta_2*X/K_XZ / (1+X/K_XZ+Y/K_YZ)\n",
        "\n",
        "    return X_dot, Y_dot, Z_dot\n",
        "\n",
        "# initial conditions\n",
        "x0 = [1,0,0]\n",
        "\n",
        "# time points\n",
        "t1 = np.arange(-20,0,0.1)\n",
        "t2 = np.arange(0,20,0.1)\n",
        "t3 = np.arange(20,40,0.1)\n",
        "\n",
        "# solve\n",
        "x1 = odeint(model,x0,t1)\n",
        "x2 = odeint(model,[2,x1[-1][1],x1[-1][2]],t2)\n",
        "x3 = odeint(model,[4,x2[-1][1],x2[-1][2]],t3)\n",
        "\n",
        "# visualize\n",
        "t = np.concatenate((t1,t2,t3),axis=0)\n",
        "X = np.concatenate((x1,x2,x3),axis=0)[:,0]\n",
        "Y = np.concatenate((x1,x2,x3),axis=0)[:,1]\n",
        "Z = np.concatenate((x1,x2,x3),axis=0)[:,2]\n",
        "\n",
        "fig, ax = plt.subplots(3,1,figsize=(3,4))\n",
        "\n",
        "ax[0].plot(t[t>-5],X[t>-5],'k-');\n",
        "ax[1].plot(t[t>-5],Y[t>-5],'b-');\n",
        "ax[2].plot(t[t>-5],Z[t>-5],'r-');\n",
        "\n",
        "ax[0].set_ylabel('[X]', rotation=0, labelpad=10)\n",
        "ax[1].set_ylabel('[Y]', rotation=0, labelpad=10)\n",
        "ax[2].set_ylabel('[Z]', rotation=0, labelpad=10)\n",
        "ax[2].set_xlabel('Time (s)')\n",
        "\n",
        "ax[0].set_yticks([1,2,4])\n",
        "ax[0].set_yticklabels([1,2,4],fontsize=9)\n",
        "ax[0].set_xticklabels([])\n",
        "\n",
        "ax[1].set_yticks([0,0.75])\n",
        "ax[1].set_yticklabels([0,0.75],fontsize=9)\n",
        "ax[1].set_xticklabels([])\n",
        "\n",
        "\n",
        "# ax[0].tick_params(axis='y', labelsize=9)\n",
        "# ax[1].tick_params(axis='y', labelsize=9)\n",
        "ax[2].tick_params(axis='y', labelsize=9)\n",
        "ax[2].set_xticks([0,20,40])\n",
        "ax[2].set_xticklabels([0,20,40],fontsize=9)\n",
        "\n",
        "# ax[2].set_yticklabels([0,6e-5],fontsize=9)\n",
        "\n",
        "ax[0].spines['top'].set_visible(False)\n",
        "ax[0].spines['right'].set_visible(False)\n",
        "ax[1].spines['top'].set_visible(False)\n",
        "ax[1].spines['right'].set_visible(False)\n",
        "ax[2].spines['top'].set_visible(False)\n",
        "ax[2].spines['right'].set_visible(False)\n",
        "\n",
        "fig.tight_layout()\n",
        "if Save:\n",
        "    fig.savefig(str(savedir / 'foldchange.pdf'), bbox_inches='tight')\n",
        "    fig.savefig(str(savedir / 'foldchange.svg'), bbox_inches='tight')"
      ]
    },
    {
      "cell_type": "markdown",
      "metadata": {
        "id": "SYz80SVeXxtD"
      },
      "source": [
        "## Bistability"
      ]
    },
    {
      "cell_type": "code",
      "execution_count": null,
      "metadata": {
        "colab": {
          "base_uri": "https://localhost:8080/",
          "height": 172
        },
        "id": "IELDNn7IXxtD",
        "outputId": "1bc1e33c-e593-4288-96f9-c5075307691d"
      },
      "outputs": [],
      "source": [
        "import matplotlib.patches as patches\n",
        "from matplotlib.path import Path\n",
        "\n",
        "\n",
        "\n",
        "fig, ax = plt.subplots(nrows=1, ncols=1, figsize=(3,2), )\n",
        "\n",
        "ax.text(1,1,r'$A$',fontsize=14,color='k',ha='center',va='center')\n",
        "ax.text(2,1,r'$B$',fontsize=14,color='k',ha='center',va='center')\n",
        "\n",
        "def generate_circular_path_for_arrow(center, radius, rotation='cw', flip_dir=False, num_points=100, n_omit_points_beginning=10, n_omit_points_end=10):\n",
        "\n",
        "    # Generate the points along the circle\n",
        "    theta = np.linspace(0, 2 * np.pi, num_points)\n",
        "    if rotation == 'cw':\n",
        "        x = radius * np.cos(theta) + center[0]\n",
        "    elif rotation == 'ccw':\n",
        "        x = -radius * np.cos(theta) + center[0]\n",
        "    y = radius * np.sin(theta) + center[1]\n",
        "    # Combine the points into a path\n",
        "    if flip_dir:\n",
        "        verts = list(zip(x[n_omit_points_beginning:-n_omit_points_end][::-1], y[n_omit_points_beginning:-n_omit_points_end][::-1]))\n",
        "    else:\n",
        "        verts = list(zip(x[n_omit_points_beginning:-n_omit_points_end], y[n_omit_points_beginning:-n_omit_points_end]))\n",
        "\n",
        "    codes = [Path.MOVETO] + [Path.LINETO] * (num_points - 2-n_omit_points_beginning-n_omit_points_end) + [Path.LINETO]\n",
        "    path = Path(verts, codes)\n",
        "    return path\n",
        "\n",
        "path = generate_circular_path_for_arrow(center= (0.65, 1), radius=0.3, flip_dir=True)\n",
        "ax.add_patch(patches.FancyArrowPatch(path=path,\n",
        "                                     lw=1, arrowstyle=u'-|>',\n",
        "                                     mutation_scale=14,color='k'))\n",
        "\n",
        "path = generate_circular_path_for_arrow(center= (2.35, 1), radius=0.3, rotation='ccw',\n",
        "                                        n_omit_points_beginning=13, n_omit_points_end=7)\n",
        "ax.add_patch(patches.FancyArrowPatch(path=path,\n",
        "                                     lw=1, arrowstyle=u'-|>',\n",
        "                                     mutation_scale=14,color='k'))\n",
        "\n",
        "ax.add_patch(patches.FancyArrowPatch(posA=(1.1, 0.8), posB=(1.9, 0.8), connectionstyle=\"angle3,angleA=-50,angleB=-130\",\n",
        "                                          lw=1, fc='k', arrowstyle=u'|-|, widthA=0, widthB=1',\n",
        "                                          mutation_scale=5))\n",
        "ax.add_patch(patches.FancyArrowPatch(posA=(1.9, 1.2), posB=(1.1, 1.2), connectionstyle=\"angle3,angleA=-50,angleB=-130\",\n",
        "                                          lw=1, fc='k', arrowstyle=u'|-|,  widthA=0, widthB=1',\n",
        "                                          mutation_scale=5))\n",
        "\n",
        "ax.set_xlim([0.3,2.7])\n",
        "ax.set_ylim([0.3,1.7])\n",
        "ax.set_axis_off()\n",
        "ax.set_aspect('equal')\n",
        "if Save:\n",
        "    fig.savefig(str(savedir / 'mutual_inh2.pdf'), bbox_inches='tight');\n",
        "    fig.savefig(str(savedir / 'mutual_inh2.svg'), bbox_inches='tight');"
      ]
    },
    {
      "cell_type": "code",
      "execution_count": null,
      "metadata": {
        "colab": {
          "base_uri": "https://localhost:8080/",
          "height": 225
        },
        "id": "TcNZVNFPXxtE",
        "outputId": "316346df-d442-4652-94b3-728f35f04120"
      },
      "outputs": [],
      "source": [
        "def F(X, I, B):\n",
        "    # this is our gain function\n",
        "    return 1/(1+np.exp(-(I-B*X)))\n",
        "\n",
        "def plot_vector_field(ax, I, b):\n",
        "\n",
        "        # lay down the grid\n",
        "        X1 = np.arange(-0.2, 1.8, 0.2)\n",
        "        X2 = np.arange(-0.2, 1.8, 0.2)\n",
        "        X1, X2 = np.meshgrid(X1, X2)\n",
        "\n",
        "        # vector field equations\n",
        "        U1 = -X1 + F(X2, I, b)\n",
        "        U2 = -X2 + F(X1, I, b)\n",
        "\n",
        "        fixed_point_size=30\n",
        "        # visualize vector field\n",
        "        #     ax.quiver(X1, X2, U1, U2,color=[0.85, 0.37, 0.05]);\n",
        "        ax.streamplot(X1, X2, U1, U2,\n",
        "                      color=[0.19, 0.51, 0.74],\n",
        "                      linewidth=.3,density=(1.5,1),minlength=0.1)\n",
        "\n",
        "        ax.text(1.2, 1.2, u'$I  = $'+str(I)+'\\n'+u'$b = $'+str(b),\n",
        "                bbox={'facecolor': 'white', 'alpha': 1, 'pad': 0.5, 'edgecolor': 'none'},\n",
        "                horizontalalignment='center', verticalalignment='center',\n",
        "                fontsize=10)\n",
        "\n",
        "        # plot fixed points\n",
        "        x = np.arange(0, 3, 0.001)\n",
        "        f = x\n",
        "        g = F(F(x, I, b), I, b)\n",
        "\n",
        "        idx = np.argwhere(np.diff(np.sign(f - g))).flatten()\n",
        "        if len(idx) == 3:\n",
        "\n",
        "                ax.scatter(x[idx[1]],g[idx[1]],fixed_point_size, 'k', marker=MarkerStyle(\"o\", fillstyle=\"right\"), zorder=2)\n",
        "                ax.scatter(x[idx[1]],g[idx[1]],fixed_point_size, 'w', edgecolor=\"k\", marker=MarkerStyle(\"o\", fillstyle=\"left\"), zorder=2)\n",
        "\n",
        "                ax.scatter(x[idx[0]], g[idx[2]],fixed_point_size, edgecolor='k', facecolor='black',zorder=2)\n",
        "\n",
        "                ax.scatter(x[idx[2]], g[idx[0]],fixed_point_size, edgecolor='k', facecolor='black',zorder=2)\n",
        "\n",
        "        else:\n",
        "                ax.scatter(x[idx], g[idx], fixed_point_size, edgecolor='k', facecolor='black',zorder=2)\n",
        "        return ax\n",
        "\n",
        "# plot\n",
        "fig = plt.figure(figsize=(6,2.2))\n",
        "ax0 = fig.add_subplot(1,3,1)\n",
        "plot_vector_field(ax0, 1, 0)\n",
        "ax1 = fig.add_subplot(1,3,2)\n",
        "plot_vector_field(ax1, 1, 3)\n",
        "ax2 = fig.add_subplot(1,3,3)\n",
        "plot_vector_field(ax2, 1, 7)\n",
        "\n",
        "ax1.set_xlabel('$x_1$',fontsize=11)\n",
        "ax0.set_ylabel('$x_2$',fontsize=11,rotation=0)\n",
        "\n",
        "\n",
        "for ax in [ax0, ax1, ax2]:\n",
        "        ax.set_xlim((-0.05,1.3))\n",
        "        ax.set_ylim((-0.05,1.3))\n",
        "        ax.spines['top'].set_visible(False)\n",
        "        ax.spines['right'].set_visible(False)\n",
        "        ax.set_xticks([0,1])\n",
        "        ax.set_yticks([0,1])\n",
        "        ax.set_xticklabels([0,1],fontsize=10)\n",
        "        ax.set_yticklabels([0,1],fontsize=10)\n",
        "\n",
        "fig.tight_layout()\n",
        "\n",
        "if Save:\n",
        "        fig.savefig(str(savedir / 'binocular-rivalry.pdf'), dpi=600, format='pdf', bbox_inches='tight')"
      ]
    },
    {
      "cell_type": "code",
      "execution_count": null,
      "metadata": {
        "colab": {
          "base_uri": "https://localhost:8080/",
          "height": 309
        },
        "id": "ZCUJYZ19XxtE",
        "outputId": "74caebb3-5a39-43ab-9ade-6f4970aa0008"
      },
      "outputs": [],
      "source": [
        "from scipy.optimize import fsolve\n",
        "from scipy.integrate import odeint\n",
        "\n",
        "def F(X, I, B, c):\n",
        "    # this is our gain function\n",
        "    return 1/(1+np.exp(-(I-B*X+c)))\n",
        "\n",
        "def plot_vector_field(ax, I, b, c1, c2):\n",
        "\n",
        "    # lay down the grid\n",
        "    X1 = np.arange(-0.2, 1.8, 0.05)\n",
        "    X2 = np.arange(-0.2, 1.8, 0.05)\n",
        "    X1, X2 = np.meshgrid(X1, X2)\n",
        "\n",
        "    # vector field equations\n",
        "    U1 = -X1 + F(X2, I, b, c1,)\n",
        "    U2 = -X2 + F(X1, I, b, c2,)\n",
        "    ax.contour(X1, X2, U1, levels=[0], colors='r')  # x-nullcline\n",
        "    ax.contour(X1, X2, U2, levels=[0], colors='b')  # y-nullcline\n",
        "\n",
        "    fixed_point_size=30\n",
        "    # visualize vector field\n",
        "    #     ax.quiver(X1, X2, U1, U2,color=[0.85, 0.37, 0.05]);\n",
        "    ax.streamplot(X1, X2, U1, U2,\n",
        "                    color=[0.19, 0.51, 0.74],\n",
        "                    linewidth=.3,density=(1.5,1),minlength=0.1)\n",
        "\n",
        "    def diff_func(vars):\n",
        "        X1, X2 = vars\n",
        "        return [-X1 + F(X2, I, b, c1,), -X2 + F(X1, I, b, c2,)]\n",
        "\n",
        "    # Find intersection points numerically\n",
        "    intersection_points = []\n",
        "    for guess in [(0, 1), (0.2, 0.2), (1, 0)]:\n",
        "        root = fsolve(diff_func, guess)\n",
        "        if not any(np.all(np.isclose(root, existing_point, atol=1e-5)) for existing_point in intersection_points):\n",
        "            intersection_points.append(root)\n",
        "\n",
        "    return intersection_points\n",
        "\n",
        "# plot\n",
        "fig, (ax0, ax1, ax2)= plt.subplots(1, 3, figsize=(6,2.5))\n",
        "intersection_points = plot_vector_field(ax0, I=1, b=5, c1=0.4, c2=-0.4)\n",
        "ax0.scatter(intersection_points[1][0], intersection_points[1][1], 30, edgecolor='k', facecolor='black',zorder=2)\n",
        "ax0.set_title(\"Loading\", fontsize=12)\n",
        "\n",
        "# Define the system of differential equations\n",
        "def system(vars, t, I, b, c1, c2):\n",
        "    X1, X2 = vars\n",
        "    U1 = -X1 + F(X2, I, b, c1,)\n",
        "    U2 = -X2 + F(X1, I, b, c2,)\n",
        "    return [U1, U2]\n",
        "\n",
        "# Coefficients\n",
        "I, b, c1, c2 = 1, 5, 0.4, -0.4\n",
        "\n",
        "# Time points to solve the system\n",
        "t = np.linspace(0, 5, 100)\n",
        "\n",
        "# Initial conditions\n",
        "x0, y0 = 0, 0  # Starting point\n",
        "\n",
        "# Solve the system\n",
        "trajectory = odeint(system, [x0, y0], t, args=(I, b, c1, c2))\n",
        "\n",
        "ax0.plot(trajectory[:, 0], trajectory[:, 1], 'k', linewidth=1)\n",
        "# Arrow properties\n",
        "start_idx = -20  # Index to start the arrow (from the end of the trajectory)\n",
        "end_idx = -13    # Index to end the arrow (last point of the trajectory)\n",
        "\n",
        "# Calculate the arrow properties\n",
        "dx = trajectory[end_idx, 0] - trajectory[start_idx, 0]\n",
        "dy = trajectory[end_idx, 1] - trajectory[start_idx, 1]\n",
        "arrow_start_x = trajectory[start_idx, 0]\n",
        "arrow_start_y = trajectory[start_idx, 1]\n",
        "\n",
        "# Add the arrow to the plot\n",
        "ax0.arrow(arrow_start_x, arrow_start_y, dx, dy, head_width=0.05, head_length=0.1, fc='k', ec='k')\n",
        "\n",
        "intersection_points = plot_vector_field(ax1, I=1, b=5, c1=0, c2=0)\n",
        "ax1.scatter(intersection_points[0][0], intersection_points[0][1], 30, edgecolor='k', facecolor='magenta',zorder=2)\n",
        "ax1.scatter(intersection_points[1][0], intersection_points[1][1], 30, edgecolor='k', facecolor='cyan',zorder=2)\n",
        "ax1.scatter(intersection_points[2][0], intersection_points[2][1], 30, edgecolor='k', facecolor='green',zorder=2)\n",
        "ax1.set_title(\"Maintenance\", fontsize=12)\n",
        "\n",
        "intersection_points= plot_vector_field(ax2, I=1, b=8, c1=-0.1, c2=0.1)\n",
        "ax2.scatter(intersection_points[0][0], intersection_points[0][1], 30, edgecolor='k', facecolor='black',zorder=2)\n",
        "ax2.scatter(intersection_points[1][0], intersection_points[1][1], 30, 'k', marker=MarkerStyle(\"o\", fillstyle=\"right\"), zorder=2)\n",
        "ax2.scatter(intersection_points[1][0], intersection_points[1][1], 30, 'w', edgecolor=\"k\", marker=MarkerStyle(\"o\", fillstyle=\"left\"), zorder=2)\n",
        "ax2.scatter(intersection_points[2][0], intersection_points[2][1], 30, edgecolor='k', facecolor='black',zorder=2)\n",
        "ax2.set_title(\"Decision\", fontsize=12)\n",
        "\n",
        "ax1.set_xlabel('$x$',fontsize=11)\n",
        "ax0.set_ylabel('$y$',fontsize=11,rotation=0)\n",
        "\n",
        "for ax in [ax0, ax1, ax2]:\n",
        "    ax.set_xlim((-0.03,1.1))\n",
        "    ax.set_ylim((-0.03,1.1))\n",
        "    ax.spines['top'].set_visible(False)\n",
        "    ax.spines['right'].set_visible(False)\n",
        "    ax.set_xticks([0,1])\n",
        "    ax.set_yticks([0,1])\n",
        "    ax.set_xticklabels([0,1],fontsize=10)\n",
        "    ax.set_yticklabels([0,1],fontsize=10)\n",
        "\n",
        "fig.tight_layout()\n",
        "if Save:\n",
        "    fig.savefig(str(savedir / 'Machens-nullclines.pdf'), bbox_inches='tight')\n",
        "    fig.savefig(str(savedir / 'Machens-nullclines.svg'), bbox_inches='tight')"
      ]
    },
    {
      "cell_type": "code",
      "execution_count": null,
      "metadata": {
        "colab": {
          "base_uri": "https://localhost:8080/",
          "height": 204
        },
        "id": "TdbAJYrsXxtE",
        "outputId": "11a2cd69-0972-470b-a7fa-c96167172222"
      },
      "outputs": [],
      "source": [
        "def a(t, Pmax, ts):\n",
        "    return Pmax/ts * t * np.exp(1-t/ts)\n",
        "\n",
        "t = np.arange(0,60,0.1)\n",
        "Pmax = 1\n",
        "ts = 10\n",
        "fig, ax = plt.subplots(figsize=(3,2))\n",
        "plot(t, a(t, Pmax, ts), axes=ax)\n",
        "ax.set_xlabel(r'$t$ (ms)')\n",
        "ax.set_ylabel(r'$\\alpha(t)$')\n",
        "ax.spines['top'].set_visible(False)\n",
        "ax.spines['right'].set_visible(False)\n",
        "fig.tight_layout()\n",
        "\n",
        "if Save:\n",
        "    fig.savefig(str(savedir / 'alpha-function.pdf'), dpi=600, format='pdf', bbox_inches='tight');"
      ]
    },
    {
      "cell_type": "code",
      "execution_count": null,
      "metadata": {
        "colab": {
          "base_uri": "https://localhost:8080/",
          "height": 304
        },
        "id": "cw2fV-rPXxtF",
        "outputId": "d523e4b7-20c0-4072-ce24-169027ae9814"
      },
      "outputs": [],
      "source": [
        "# parameters\n",
        "dt = 0.1 # time resolution of simulation (ms)\n",
        "T = 700 # total time to simulate (ms)\n",
        "\n",
        "ES = -80 # synaptic reversal potential (mV)\n",
        "EL = -70 # leakage potential (mV)\n",
        "Vth = -54 # threshold potential (mV)\n",
        "Vreset = -80 # reset potential after firing (mV)\n",
        "Eext = 25 # external input (mV)\n",
        "tm = 20 # membrane time constant (ms)\n",
        "ts = 10 # synaptic time constant (ms)\n",
        "k = 0.05 # synaptic conductance\n",
        "Pmax = 1 # max synaptic transmission upon presynaptic firing\n",
        "\n",
        "# arrays to hold results\n",
        "timepoints = int(T/dt)\n",
        "V1 = np.ones(timepoints)\n",
        "V2 = np.ones(timepoints)\n",
        "\n",
        "# initial condition\n",
        "V1[0] = Vreset\n",
        "V2[0] = Vreset\n",
        "\n",
        "# input\n",
        "V1_input = 40\n",
        "V2_input = 10\n",
        "\n",
        "# solve diff eq, this time 'manually'\n",
        "for n in range(1,timepoints):\n",
        "\n",
        "    # if threshold crossing, ap\n",
        "    if V1[n-1] > Vth:\n",
        "        V1[n-1] = 0\n",
        "        V1[n] = Vreset\n",
        "\n",
        "    else:\n",
        "        # synaptic conductance follows alpha function\n",
        "        spike_times = np.nonzero(V2==0)[0]\n",
        "        if len(spike_times)==0:\n",
        "            Ps1=0\n",
        "        else:\n",
        "            most_recent_spike_time = np.max(spike_times)\n",
        "            Ps1 = (Pmax*(n-most_recent_spike_time)/(ts/dt)\n",
        "              *np.exp(1-(n-most_recent_spike_time)/(ts/dt)))\n",
        "\n",
        "        # update\n",
        "        if n < timepoints/5:\n",
        "            dV1 = (EL-V1[n-1]-k*Ps1*(V1[n-1]-ES)+V1_input) / (tm/dt)\n",
        "        else:\n",
        "            dV1 = (EL-V1[n-1]-k*Ps1*(V1[n-1]-ES)+Eext) / (tm/dt)\n",
        "        V1[n] = V1[n-1] + dV1\n",
        "\n",
        "    # same for second neuron\n",
        "    if V2[n-1] > Vth:\n",
        "        V2[n-1] = 0\n",
        "        V2[n] = Vreset\n",
        "\n",
        "    else:\n",
        "        spike_times = np.nonzero(V1==0)[0]\n",
        "        if len(spike_times)==0:\n",
        "            Ps2=0\n",
        "        else:\n",
        "            most_recent_spike_time = np.max(spike_times)\n",
        "            Ps2 = (Pmax*(n-most_recent_spike_time)/(ts/dt)\n",
        "              *np.exp(1-(n-most_recent_spike_time)/(ts/dt)))\n",
        "\n",
        "        if n < timepoints/5:\n",
        "            dV2 = (EL-V2[n-1]-k*Ps2*(V2[n-1]-ES)+V2_input) / (tm/dt)\n",
        "        else:\n",
        "            dV2 = (EL-V2[n-1]-k*Ps2*(V2[n-1]-ES)+Eext) / (tm/dt)\n",
        "\n",
        "        V2[n] = V2[n-1] + dV2\n",
        "\n",
        "# plot results\n",
        "color1 = np.array([217,95,2])/255\n",
        "color2 = np.array([117,112,179])/255\n",
        "time = np.linspace(0, T, timepoints)\n",
        "fig,ax = plt.subplots(2,1,figsize=(6,3),sharex=True, height_ratios=[1,1])\n",
        "ax[0].plot(time, np.concatenate((V1_input*np.ones(len(time[:int(timepoints/5)])), Eext*np.ones(len(time[int(timepoints/5):])))), color=color1, label='Neuron 1');\n",
        "ax[0].plot(time, np.concatenate((V2_input*np.ones(len(time[:int(timepoints/5)])), Eext*np.ones(len(time[int(timepoints/5):])))), color=color2, label='Neuron 2');\n",
        "ax[0].set_ylabel('$E_{\\mathrm{ext}}$ (mV)');\n",
        "ax[1].plot(time, V1, color=color1, label='Neuron 1');\n",
        "ax[1].plot(time, V2, color=color2, alpha=0.65, label='Neuron 2');\n",
        "ax[1].set_xlabel('Time (ms)');\n",
        "ax[1].set_ylabel('$V_m$ (mV)');\n",
        "ax[0].legend(loc='upper right', frameon=False, fontsize=10)\n",
        "fig.tight_layout()\n",
        "ax[0].spines['top'].set_visible(False)\n",
        "ax[0].spines['right'].set_visible(False)\n",
        "ax[1].spines['top'].set_visible(False)\n",
        "ax[1].spines['right'].set_visible(False)\n",
        "\n",
        "if Save:\n",
        "    fig.savefig(str(savedir / 'sync-mutual-inhibition.pdf'), dpi=600, format='pdf', bbox_inches='tight');"
      ]
    },
    {
      "cell_type": "markdown",
      "metadata": {
        "id": "gFivw2HhXxtF"
      },
      "source": [
        "## Turing patterns"
      ]
    },
    {
      "cell_type": "code",
      "execution_count": null,
      "metadata": {
        "colab": {
          "base_uri": "https://localhost:8080/",
          "height": 436
        },
        "id": "X3MpsQyIXxtG",
        "outputId": "eefbb1f7-17e7-41b9-a27b-97edcc755ace"
      },
      "outputs": [],
      "source": [
        "from scipy.ndimage import laplace\n",
        "from numpy.random import default_rng\n",
        "from scipy.integrate import solve_ivp\n",
        "import numpy as np\n",
        "\n",
        "rg = default_rng(474)\n",
        "\n",
        "# square grid of 200x200\n",
        "grid_size = [200, 200]\n",
        "\n",
        "# initial condition\n",
        "u0 = np.random.random_sample(size=grid_size)\n",
        "v0 = np.random.random_sample(size=grid_size)\n",
        "\n",
        "y0 = np.concatenate((np.reshape(u0,-1), np.reshape(v0,-1)))\n",
        "plt.imshow(np.reshape(y0[grid_size[0]*grid_size[1]:],grid_size),cmap='gray')\n",
        "\n",
        "# parameters\n",
        "D = 0.45\n",
        "delta = 6.0\n",
        "alpha = 0.899\n",
        "beta = -0.91\n",
        "gamma = -alpha\n",
        "r_2 = 2.0\n",
        "r_3 = 3.5\n",
        "\n",
        "# model for the dynamical system\n",
        "def rd(t, y, D, delta, alpha, beta, gamma, r_2, r_3):\n",
        "    \"\"\"\n",
        "    reaction-diffusion equations\n",
        "    \"\"\"\n",
        "    # unpack and reshape to 2d\n",
        "    u = np.reshape(y[:grid_size[0]*grid_size[1]],grid_size)\n",
        "    v = np.reshape(y[grid_size[0]*grid_size[1]:],grid_size)\n",
        "\n",
        "    # diff eqs\n",
        "    u_dot = D*delta*laplace(u, mode='reflect') + alpha*u + v -r_2*u*v - alpha*r_3*u*(v**2)\n",
        "    v_dot = delta*laplace(v, mode='reflect') + gamma*u + beta*v + r_2*u*v + alpha*r_3*u*(v**2)\n",
        "\n",
        "    # zero flux boundary conditions\n",
        "    # u_dot[0,:] = u_dot[-1,:] = u_dot[:,0] = u_dot[:,-1] = 0\n",
        "    # v_dot[0,:] = v_dot[-1,:] = v_dot[:,0] = v_dot[:,-1] = 0\n",
        "\n",
        "    return np.concatenate((np.reshape(u_dot,-1), np.reshape(v_dot,-1)))\n"
      ]
    },
    {
      "cell_type": "code",
      "execution_count": null,
      "metadata": {
        "colab": {
          "base_uri": "https://localhost:8080/",
          "height": 454
        },
        "id": "L7I0n7tyXxtG",
        "outputId": "ea115872-84b7-4012-e29e-9f45bff0ef6e"
      },
      "outputs": [],
      "source": [
        "\n",
        "# solve and visualize (may take a while...)\n",
        "first_stage = solve_ivp(rd, (0,160), y0, method = 'RK23', args=(D,delta,alpha,beta,gamma,r_2,r_3), t_eval=np.arange(0, 160, 10),\n",
        "                        rtol=1e-2, atol=1e-4)\n",
        "spots = first_stage.y[:,first_stage.t==150].flatten()\n",
        "plt.imshow(np.reshape(spots[grid_size[0]*grid_size[1]:],grid_size),cmap='gray')\n",
        "# np.save(datadir / 'TuringPatterns_spots.npy', spots)"
      ]
    },
    {
      "cell_type": "code",
      "execution_count": null,
      "metadata": {
        "colab": {
          "base_uri": "https://localhost:8080/",
          "height": 454
        },
        "id": "QgowCdPPXxtG",
        "outputId": "9fcd2800-a826-4a31-f061-1832aafc08d4"
      },
      "outputs": [],
      "source": [
        "\n",
        "second_stage = solve_ivp(rd, (0,20), spots, method = 'RK23', args=(D,delta,alpha,beta,gamma,9.0,r_3), t_eval=np.arange(0,20,0.2))\n",
        "rings = second_stage.y[:,second_stage.t==14.8].flatten()\n",
        "plt.imshow(np.reshape(rings[grid_size[0]*grid_size[1]:],grid_size),cmap='gray')\n",
        "# np.save(datadir / 'TuringPatterns_rings.npy', rings)"
      ]
    },
    {
      "cell_type": "code",
      "execution_count": null,
      "metadata": {
        "colab": {
          "base_uri": "https://localhost:8080/",
          "height": 454
        },
        "id": "R9Ik14ovXxtH",
        "outputId": "662fe7f5-02be-4f32-cbb7-cdf3576611d8"
      },
      "outputs": [],
      "source": [
        "\n",
        "third_stage = solve_ivp(rd, (0,11), rings, method = 'RK23', args=(D,3.8,alpha,beta,gamma,9.0,r_3), t_eval=np.arange(0,11,0.5))\n",
        "rosettes = third_stage.y[:,third_stage.t==10.5].flatten()\n",
        "plt.imshow(np.reshape(rosettes[grid_size[0]*grid_size[1]:],grid_size),cmap='gray')\n",
        "# np.save(datadir / 'TuringPatterns_rosettes.npy', rosettes)"
      ]
    },
    {
      "cell_type": "code",
      "execution_count": null,
      "metadata": {
        "colab": {
          "base_uri": "https://localhost:8080/",
          "height": 154
        },
        "id": "PCE71ZrnXxtH",
        "outputId": "f6f7a6f5-7246-47e8-eb03-858d150b5bff"
      },
      "outputs": [],
      "source": [
        "# spots = np.load(datadir / 'TuringPatterns_spots.npy')\n",
        "# rings = np.load(datadir / 'TuringPatterns_rings.npy')\n",
        "# rosettes = np.load(datadir / 'TuringPatterns_rosettes.npy')\n",
        "\n",
        "fig, ax = plt.subplots(1,4, figsize=(6,2.5))\n",
        "ax[0].imshow(np.reshape(y0[grid_size[0]*grid_size[1]:],grid_size),cmap='gray')\n",
        "ax[1].imshow(np.reshape(spots[grid_size[0]*grid_size[1]:],grid_size),cmap='gray')\n",
        "ax[2].imshow(np.reshape(rings[grid_size[0]*grid_size[1]:],grid_size),cmap='gray')\n",
        "ax[3].imshow(np.reshape(rosettes[grid_size[0]*grid_size[1]:],grid_size),cmap='gray')\n",
        "ax[0].axis('off')\n",
        "ax[1].axis('off')\n",
        "ax[2].axis('off')\n",
        "ax[3].axis('off')\n",
        "labels = ['A', 'B', 'C', 'D']\n",
        "for i, ax_row in enumerate(ax):\n",
        "    ax_row.text(-0.1, 1.1, labels[i], transform=ax_row.transAxes,\n",
        "                fontsize=12, fontweight='bold', va='top', ha='right')\n",
        "\n",
        "\n",
        "fig.tight_layout()\n",
        "\n",
        "if Save:\n",
        "    fig.savefig(str(savedir / 'TuringPatterns.pdf'), bbox_inches='tight');\n",
        "    fig.savefig(str(savedir / 'TuringPatterns.svg'), bbox_inches='tight');"
      ]
    },
    {
      "cell_type": "markdown",
      "metadata": {
        "id": "_nKQdfYDXxtH"
      },
      "source": [
        "## Circadian rhythms"
      ]
    },
    {
      "cell_type": "code",
      "execution_count": null,
      "metadata": {
        "colab": {
          "base_uri": "https://localhost:8080/",
          "height": 345
        },
        "id": "X0nJWrduXxtH",
        "outputId": "bb52c4dd-98a6-424b-8ade-94368c190969"
      },
      "outputs": [],
      "source": [
        "fig, axes = plt.subplots(nrows=1, ncols=1, figsize=(4,4))\n",
        "\n",
        "\n",
        "axes.plot([-1.7,1.7],[0,0],color='k',linewidth=1)\n",
        "axes.plot([0,0],[-1.7,1.7],color='k',linewidth=1)\n",
        "\n",
        "L=1\n",
        "\n",
        "Npoints=1200\n",
        "dt=0.003\n",
        "\n",
        "t=np.linspace(0,Npoints*dt,Npoints)\n",
        "R=np.zeros(t.shape)\n",
        "Phi=np.zeros(t.shape)\n",
        "X=np.zeros(t.shape)\n",
        "Y=np.zeros(t.shape)\n",
        "\n",
        "R[0]=1.4\n",
        "Phi[0]=30*2*np.pi/360\n",
        "X[0]=R[0]*np.cos(Phi[0])\n",
        "Y[0]=R[0]*np.sin(Phi[0])\n",
        "\n",
        "axes.scatter(X[0],Y[0],15,'b')\n",
        "\n",
        "for i in range(Npoints-1):\n",
        "\n",
        "    R[i+1]=R[i]+dt*L*R[i]*(1-R[i])\n",
        "    Phi[i+1]=Phi[i]+dt*2*np.pi\n",
        "    X[i+1]=R[i+1]*np.cos(Phi[i+1])\n",
        "    Y[i+1]=R[i+1]*np.sin(Phi[i+1])\n",
        "\n",
        "axes.plot(X,Y,color='b',linewidth=1.5)\n",
        "axes.plot([0,X[0]],[0,Y[0]],color='b',linewidth=1)\n",
        "t=50\n",
        "axes.arrow(X[t],Y[t],X[t+1]-X[t],Y[t+1]-Y[t],width=0.001,length_includes_head=True,head_width=0.1,color='b')\n",
        "\n",
        "\n",
        "R[0]=0.7\n",
        "Phi[0]=60*2*np.pi/360\n",
        "X[0]=R[0]*np.cos(Phi[0])\n",
        "Y[0]=R[0]*np.sin(Phi[0])\n",
        "axes.scatter(X[0],Y[0],15,'b')\n",
        "\n",
        "\n",
        "\n",
        "for i in range(Npoints-1):\n",
        "\n",
        "    R[i+1]=R[i]+dt*L*R[i]*(1-R[i])\n",
        "    Phi[i+1]=Phi[i]+dt*2*np.pi\n",
        "    X[i+1]=R[i+1]*np.cos(Phi[i+1])\n",
        "    Y[i+1]=R[i+1]*np.sin(Phi[i+1])\n",
        "\n",
        "axes.plot(X,Y,color='b',linewidth=1.5)\n",
        "t=50\n",
        "axes.arrow(X[t],Y[t],X[t+1]-X[t],Y[t+1]-Y[t],width=0.001,length_includes_head=True,head_width=0.1,color='b')\n",
        "\n",
        "Npoints=400\n",
        "\n",
        "t=np.linspace(0,Npoints*dt,Npoints)\n",
        "R=np.zeros(t.shape)\n",
        "Phi=np.zeros(t.shape)\n",
        "X=np.zeros(t.shape)\n",
        "Y=np.zeros(t.shape)\n",
        "\n",
        "R[0]=1\n",
        "Phi[0]=60*2*np.pi/360\n",
        "X[0]=R[0]*np.cos(Phi[0])\n",
        "Y[0]=R[0]*np.sin(Phi[0])\n",
        "\n",
        "for i in range(Npoints-1):\n",
        "\n",
        "    R[i+1]=R[i]+dt*L*R[i]*(1-R[i])\n",
        "    Phi[i+1]=Phi[i]+dt*2*np.pi\n",
        "    X[i+1]=R[i+1]*np.cos(Phi[i+1])\n",
        "    Y[i+1]=R[i+1]*np.sin(Phi[i+1])\n",
        "\n",
        "axes.plot(X,Y,color='r',linewidth=2)\n",
        "axes.text(0.7,-1.2,r'limit cycle',fontsize=16,color='r')\n",
        "axes.text(0.9,-1.45,r'$r=1$',fontsize=16,color='r')\n",
        "axes.text(1.3,-0.15,r'$x$',fontsize=16,color='k')\n",
        "axes.text(-0.15,1.4,r'$y$',fontsize=16,color='k')\n",
        "axes.text(0.55,0.38,r'$r$',fontsize=16,color='g')\n",
        "axes.text(0.32,0.06,r'$\\phi$',fontsize=16,color='g')\n",
        "\n",
        "\n",
        "\n",
        "axes.set_xticks([-1,0,1],['-1','0','1'])\n",
        "axes.set_yticks([-1,0,1],['-1','0','1'])\n",
        "\n",
        "axes.set_xlim([-1.7,1.7])\n",
        "axes.set_ylim([-1.7,1.7])\n",
        "axes.arrow(0,1.6,0,0.1,width=0.001,length_includes_head=True,head_width=0.1,\n",
        "                overhang=1,color='k')\n",
        "axes.arrow(1.6,0,0.1,0,width=0.001,length_includes_head=True,head_width=0.1,\n",
        "                overhang=1,color='k')\n",
        "\n",
        "axes.axis('off')\n",
        "\n",
        "axes.set_aspect('equal')\n",
        "\n",
        "if Save:\n",
        "    fig.savefig(str(savedir / 'cycle-oscillator1.pdf'), bbox_inches='tight')\n",
        "    fig.savefig(str(savedir / 'cycle-oscillator1.svg'), bbox_inches='tight')"
      ]
    },
    {
      "cell_type": "code",
      "execution_count": null,
      "metadata": {
        "colab": {
          "base_uri": "https://localhost:8080/",
          "height": 345
        },
        "id": "eIR8hKEzXxtI",
        "outputId": "b677e4c6-7a5c-4e9d-8506-9156b60d826c"
      },
      "outputs": [],
      "source": [
        "from matplotlib.patches import Wedge\n",
        "\n",
        "fig, axes = plt.subplots(nrows=1, ncols=1, figsize=(4,4))\n",
        "\n",
        "axes.plot([-1.7,1.7],[0,0],color='k',linewidth=1)\n",
        "axes.plot([0,0],[-1.7,1.7],color='k',linewidth=1)\n",
        "\n",
        "L=1\n",
        "Npoints=400\n",
        "\n",
        "t=np.linspace(0,Npoints*dt,Npoints)\n",
        "R=np.zeros(t.shape)\n",
        "Phi=np.zeros(t.shape)\n",
        "X=np.zeros(t.shape)\n",
        "Y=np.zeros(t.shape)\n",
        "\n",
        "\n",
        "R[0]=1\n",
        "Phi[0]=60*2*np.pi/360\n",
        "X[0]=R[0]*np.cos(Phi[0])\n",
        "Y[0]=R[0]*np.sin(Phi[0])\n",
        "\n",
        "for i in range(Npoints-1):\n",
        "\n",
        "    R[i+1]=R[i]+dt*L*R[i]*(1-R[i])\n",
        "    Phi[i+1]=Phi[i]+dt*2*np.pi\n",
        "    X[i+1]=R[i+1]*np.cos(Phi[i+1])\n",
        "    Y[i+1]=R[i+1]*np.sin(Phi[i+1])\n",
        "\n",
        "axes.plot(X,Y,color='r',linewidth=1)\n",
        "axes.text(0.7,-1.2,r'limit cycle',fontsize=16,color='r')\n",
        "axes.text(0.9,-1.45,r'$r=1$',fontsize=16,color='r')\n",
        "axes.text(1.3,-0.15,r'$x$',fontsize=16,color='k')\n",
        "axes.text(-0.15,1.4,r'$y$',fontsize=16,color='k')\n",
        "\n",
        "\n",
        "R[0]=1\n",
        "Phi[0]=30*2*np.pi/360\n",
        "X[0]=R[0]*np.cos(Phi[0])\n",
        "Y[0]=R[0]*np.sin(Phi[0])\n",
        "\n",
        "axes.scatter(X[0],Y[0],15,'k')\n",
        "axes.plot([0,X[0]],[0,Y[0]],color='k',linewidth=1)\n",
        "axes.scatter(X[0]+0.5,Y[0],15,'k')\n",
        "axes.plot([0,X[0]+0.5],[0,Y[0]],color='k',linewidth=1)\n",
        "axes.arrow(X[0],Y[0],0.5,0,width=0.001,length_includes_head=True,head_width=0.1,\n",
        "                overhang=1,color='b')\n",
        "# axes.arrow(X[0],Y[0]+0.05,0.5,0,width=0.001,length_includes_head=True,head_width=0.1,\n",
        "#                 overhang=1,color='b')\n",
        "\n",
        "axes.add_patch(Wedge([0, 0], 0.4, 0, 180/np.pi*Phi[0], edgecolor='k',facecolor='0.8'))\n",
        "axes.add_patch(Wedge([0, 0], 0.7, 180/np.pi*np.arctan(Y[0]/(X[0]+0.5)), 180/np.pi*Phi[0], edgecolor='g',facecolor='none'))\n",
        "\n",
        "axes.text(X[0]+0.12,Y[0]+0.1,r'$A$',fontsize=16,color='b')\n",
        "\n",
        "\n",
        "axes.set_xticks([-1,0,1],['-1','0','1'])\n",
        "axes.set_yticks([-1,0,1],['-1','0','1'])\n",
        "\n",
        "axes.set_xlim([-1.7,1.7])\n",
        "axes.set_ylim([-1.7,1.7])\n",
        "axes.arrow(0,1.6,0,0.1,width=0.001,length_includes_head=True,head_width=0.1,\n",
        "                overhang=1,color='k')\n",
        "axes.arrow(1.6,0,0.1,0,width=0.001,length_includes_head=True,head_width=0.1,\n",
        "                overhang=1,color='k')\n",
        "\n",
        "axes.text(0.3,0.4,r'$\\Delta \\phi$',fontsize=16,color='g')\n",
        "axes.text(0.45,0.06,r'$\\phi$',fontsize=16,color='k')\n",
        "\n",
        "axes.axis('off')\n",
        "\n",
        "axes.set_aspect('equal')\n",
        "\n",
        "if Save:\n",
        "    fig.savefig(str(savedir / 'cycle-oscillator2.pdf'),  bbox_inches='tight')\n",
        "    fig.savefig(str(savedir / 'cycle-oscillator2.svg'),  bbox_inches='tight')"
      ]
    },
    {
      "cell_type": "markdown",
      "metadata": {
        "id": "9nvuqfbcXxtI"
      },
      "source": [
        "### Neuroscience"
      ]
    },
    {
      "cell_type": "markdown",
      "metadata": {
        "id": "dbjDWitgXxtI"
      },
      "source": [
        "#### The integrate-and-fire model of a neuron"
      ]
    },
    {
      "cell_type": "markdown",
      "metadata": {
        "id": "CHDmL2q5XxtJ"
      },
      "source": [
        "Equations and simulation"
      ]
    },
    {
      "cell_type": "markdown",
      "metadata": {
        "id": "Ah68G1NLXxtJ"
      },
      "source": [
        "\\begin{align*}\n",
        "\\tau \\frac{dV}{dt} &= - V(t) + RI(t) + N(t) \\\\\n",
        "I(t) &= \\textrm{ injected current} \\\\\n",
        "R &= \\textrm{ membrane resistance} \\\\\n",
        "N(t) &= \\textrm{ noise voltage} \\\\\n",
        "\\textrm{When } V &= V_{\\rm{t}} \\textrm{ emit a spike and reset } V \\textrm{ to } V_{\\rm{r}}\n",
        "\\end{align*}\n"
      ]
    },
    {
      "cell_type": "code",
      "execution_count": null,
      "metadata": {
        "id": "F8QsVMvwXxtJ"
      },
      "outputs": [],
      "source": [
        "# Simulate voltage trace in one trial\n",
        "\n",
        "tau = 0.015 # membrane time constant in s\n",
        "noa = 5 # noise amplitude in mV\n",
        "vth = 28 # voltage threshold in mV\n",
        "vre = -10 # voltage reset in mV\n",
        "ico = 30 # amplitude of constant input RI in mV\n",
        "\n",
        "T = 1 # duration of a trial in s\n",
        "dt = 0.001 # time resolution in s\n",
        "np.random.seed(4) # random seed\n",
        "\n",
        "t=np.arange(0,T,dt) # time during a trial in s\n",
        "N=len(t) # number of data points in a trial\n",
        "ir=np.zeros(N) # input current in mV\n",
        "\n",
        "ir[:]=ico*(t>0.1) # constant input current starts at 0.1 s\n",
        "no=np.random.normal(0,noa,size=N) # gaussian noise\n",
        "v=np.zeros(N) # membrane potential in mV\n",
        "v[0]=0 # start at zero potential\n",
        "st=[] # spike times\n",
        "for i in range(1,N):\n",
        "    v[i]=v[i-1]+(ir[i-1]+no[i-1]-v[i-1])*dt/tau # dynamics\n",
        "    if v[i]>vth: # check for threshold\n",
        "        st+=[t[i]] # emit a spike\n",
        "        v[i]=vre # reset potential"
      ]
    },
    {
      "cell_type": "code",
      "execution_count": null,
      "metadata": {
        "colab": {
          "base_uri": "https://localhost:8080/",
          "height": 253
        },
        "id": "J_qxi0QXXxtJ",
        "outputId": "e9b410bb-7b22-44f7-bffe-3cc49fe770e4"
      },
      "outputs": [],
      "source": [
        "from matplotlib.gridspec import GridSpec\n",
        "fig,ax=plt.subplots(3,1,figsize=(4,2.5),gridspec_kw={'height_ratios':[1,4,1]},\n",
        "                   sharex=True)\n",
        "plot(st,np.zeros(len(st)),axes=ax[0],\n",
        "     # ylabel='Spikes',\n",
        "     fmts=['b|'],markersize=10,linewidth=1);\n",
        "plot(t,v,\n",
        "     # ylabel='Voltage (mV)',\n",
        "     axes=ax[1],linewidth=1);\n",
        "plot([0,T],[[vre,vre],[vth,vth]],fmts=['k:','k:'],\n",
        "     # ylabel='Voltage (mV)',\n",
        "     axes=ax[1],linewidth=1);\n",
        "plot(t,ir,axes=ax[2],\n",
        "     # xlabel='Time (s)',ylabel='Current',\n",
        "     fmts=['k-'],linewidth=1,\n",
        "     xlim=[0,1]);\n",
        "ax[0].spines.left.set_visible(False)\n",
        "ax[0].spines.top.set_visible(False)\n",
        "ax[0].spines.right.set_visible(False)\n",
        "ax[0].get_yaxis().set_ticks([]);\n",
        "ax[0].set_ylabel('Spikes', rotation=0, fontdict={'fontsize':12}, labelpad=20)\n",
        "ax[1].spines.right.set_visible(False)\n",
        "ax[1].spines.top.set_visible(False)\n",
        "ax[1].set_ylabel(r'$V$ (mV)', fontdict={'fontsize':12})\n",
        "ax[2].spines.right.set_visible(False)\n",
        "ax[2].spines.top.set_visible(False)\n",
        "ax[2].set_ylabel(r'$I$ (nA)', fontdict={'fontsize':12})\n",
        "ax[2].set_xlabel('Time (s)', fontdict={'fontsize':12})\n",
        "ax[2].set_xticks(np.arange(0,1.2,.2))\n",
        "# ax[2].set_xticklabels(['0'] + 4*[''] + ['1'])\n",
        "fig.tight_layout()\n",
        "\n",
        "if Save:\n",
        "     fig.savefig(str(savedir / 'IF_Model_Trace.pdf'), bbox_inches='tight')\n",
        "     fig.savefig(str(savedir / 'IF_Model_Trace.svg'), bbox_inches='tight')"
      ]
    },
    {
      "cell_type": "markdown",
      "metadata": {
        "id": "rm1PXTELXxtK"
      },
      "source": [
        "#### What is the mechanism of the action potential?"
      ]
    },
    {
      "cell_type": "markdown",
      "metadata": {
        "id": "JfOFEmVBXxtK"
      },
      "source": [
        "Hodgkin-Huxley model: with inspiration from a problem set by Vijay Balasubramanian, which in turn relies on Dayan & Abbott 2005, Ch 5.5."
      ]
    },
    {
      "cell_type": "markdown",
      "metadata": {
        "id": "oalPh7r8XxtK"
      },
      "source": [
        "Dynamics of a single-compartment model"
      ]
    },
    {
      "cell_type": "markdown",
      "metadata": {
        "id": "RyhVWhfNXxtK"
      },
      "source": [
        "Dimensions: If we measure $c_m$ in $\\mathrm{\\mu F} / \\mathrm{mm}^2$, $V$ in $\\mathrm{mV}$, $t$ in $\\mathrm{ms}$, $A$ in $\\mathrm{mm}^2$, then $i_m$ is in $\\mathrm{\\mu A} / \\mathrm{mm}^2$ and $I_e$ in $\\mathrm{\\mu A}$."
      ]
    },
    {
      "cell_type": "code",
      "execution_count": null,
      "metadata": {
        "id": "dmSUc-OMXxtL"
      },
      "outputs": [],
      "source": [
        "c_m = 0.01 # in uF/mm^2\n",
        "A = 0.1 # in mm^2 # isn't that huge? for squid axon perhaps OK"
      ]
    },
    {
      "cell_type": "markdown",
      "metadata": {
        "id": "ZWb64O6DXxtL"
      },
      "source": [
        "Membrane current of the Hodgkin-Huxley model\n",
        "\n",
        "With the g's and E's expressed in these units, the membrane current is in units of $\\mu$A/mm$^2$."
      ]
    },
    {
      "cell_type": "code",
      "execution_count": null,
      "metadata": {
        "id": "vQUeKIs_XxtL"
      },
      "outputs": [],
      "source": [
        "g_L=0.003 # in mS/mm^2\n",
        "g_K=0.36\n",
        "g_Na=1.2\n",
        "E_L=-54.387 # in mV # why so precise?\n",
        "E_K=-77\n",
        "E_Na=50"
      ]
    },
    {
      "cell_type": "code",
      "execution_count": null,
      "metadata": {
        "id": "D5G6vXtjXxtL"
      },
      "outputs": [],
      "source": [
        "def i_m(V,n,m,h):\n",
        "    return g_L*(V-E_L)+g_K*n**4*(V-E_K)+g_Na*m**3*h*(V-E_Na)"
      ]
    },
    {
      "cell_type": "markdown",
      "metadata": {
        "id": "wiaHfmypXxtM"
      },
      "source": [
        "#### Activation and de-inactivation probabilities\n",
        "$n(t)$, $m(t)$ and $h(t)$ follow the same equation (here shown for $n(t)$):"
      ]
    },
    {
      "cell_type": "markdown",
      "metadata": {
        "id": "eQpJjMt4XxtM"
      },
      "source": [
        "#### Opening and closing rate functions\n",
        "These expressions assume that $V$ is measured in mV, and time is measured in ms, i.e. the units of $\\alpha$ and $\\beta$ are ms$^{-1}$."
      ]
    },
    {
      "cell_type": "code",
      "execution_count": null,
      "metadata": {
        "id": "U75ToEgvXxtN"
      },
      "outputs": [],
      "source": [
        "def al_n(V):\n",
        "    return 0.01*(V+55)/(1-np.exp(-0.1*(V+55)))\n",
        "\n",
        "def al_m(V):\n",
        "    return 0.1*(V+40)/(1-np.exp(-0.1*(V+40)))\n",
        "\n",
        "def al_h(V):\n",
        "    return 0.07*np.exp(-0.05*(V+65))\n",
        "\n",
        "def be_n(V):\n",
        "    return 0.125*np.exp(-0.0125*(V+65))\n",
        "\n",
        "def be_m(V):\n",
        "    return 4*np.exp(-0.0556*(V+65))\n",
        "\n",
        "def be_h(V):\n",
        "    return 1/(1+np.exp(-0.1*(V+35)))"
      ]
    },
    {
      "cell_type": "markdown",
      "metadata": {
        "id": "tIl79HtGXxtN"
      },
      "source": [
        "#### Time constants\n",
        "$\\tau_n(V)$,  $\\tau_m(V)$, and $\\tau_h(V)$ follow the same dependence (here shown for $\\tau_n(V)$):\n",
        "\n",
        "Again, the numerical values of the $\\alpha$ and $\\beta$ are such that $\\tau$ is measured in ms."
      ]
    },
    {
      "cell_type": "code",
      "execution_count": null,
      "metadata": {
        "id": "L6gkItR_XxtN"
      },
      "outputs": [],
      "source": [
        "# time constants\n",
        "def t_n(V):\n",
        "    return 1/(al_n(V)+be_n(V))\n",
        "\n",
        "def t_m(V):\n",
        "    return 1/(al_m(V)+be_m(V))\n",
        "\n",
        "def t_h(V):\n",
        "    return 1/(al_h(V)+be_h(V))"
      ]
    },
    {
      "cell_type": "markdown",
      "metadata": {
        "id": "UjKlictgXxtO"
      },
      "source": [
        "#### Steady-state activation and de-inactivation rates\n",
        "$n_\\infty$, $m_\\infty$, and $h_\\infty$ follow the same equation (here shown for\n",
        "$n_\\infty$):"
      ]
    },
    {
      "cell_type": "code",
      "execution_count": null,
      "metadata": {
        "id": "K3tpA2D4XxtO"
      },
      "outputs": [],
      "source": [
        "# steady state rates n, m, h\n",
        "def n_inf(V):\n",
        "    return al_n(V)/(al_n(V)+be_n(V))\n",
        "\n",
        "def m_inf(V):\n",
        "    return al_m(V)/(al_m(V)+be_m(V))\n",
        "\n",
        "def h_inf(V):\n",
        "    return al_h(V)/(al_h(V)+be_h(V))"
      ]
    },
    {
      "cell_type": "markdown",
      "metadata": {
        "id": "a3imDp_tXxtO"
      },
      "source": [
        "#### Some voltage-dependencies"
      ]
    },
    {
      "cell_type": "code",
      "execution_count": null,
      "metadata": {
        "colab": {
          "base_uri": "https://localhost:8080/",
          "height": 304
        },
        "id": "O8VktufUXxtO",
        "outputId": "2683a807-5547-49a4-c8e9-91be1d532625"
      },
      "outputs": [],
      "source": [
        "# steady state probabilities\n",
        "V=np.linspace(E_K,E_Na,100) # full voltage range in mV\n",
        "plot(V,[n_inf(V),m_inf(V),h_inf(V)],legend=['$n$','$m$','$h$'],\n",
        "    xlabel='Voltage (mV)',ylabel='Probability');"
      ]
    },
    {
      "cell_type": "code",
      "execution_count": null,
      "metadata": {
        "colab": {
          "base_uri": "https://localhost:8080/",
          "height": 304
        },
        "id": "MH-u9eXUXxtO",
        "outputId": "8b04beb0-4c22-4194-8b54-86bc3721b925"
      },
      "outputs": [],
      "source": [
        "# time constants\n",
        "plot(V,[t_n(V),t_m(V),t_h(V)],legend=[r'$\\tau_n$',r'$\\tau_m$',r'$\\tau_h$'],\n",
        "    xlabel='Voltage (mV)',ylabel='Time constant (ms)');"
      ]
    },
    {
      "cell_type": "markdown",
      "metadata": {
        "id": "P6LLAVJdXxtP"
      },
      "source": [
        "#### Simulation"
      ]
    },
    {
      "cell_type": "code",
      "execution_count": null,
      "metadata": {
        "id": "ka6W_OO5XxtP"
      },
      "outputs": [],
      "source": [
        "# response to current step\n",
        "def sim_HH(I):\n",
        "    '''\n",
        "    Simulates voltage response of the HH model to a current step I (in uA)\n",
        "    Returns:\n",
        "    t=time series in ms\n",
        "    v=voltage series in mV\n",
        "    '''\n",
        "    # initial conditions\n",
        "    V_0=-65 # resting potential in mV\n",
        "    V=V_0\n",
        "    n=n_inf(V)\n",
        "    m=m_inf(V)\n",
        "    h=h_inf(V)\n",
        "\n",
        "    # time scale\n",
        "    T=100 # duration in ms\n",
        "    dt=0.01 # time step in ms\n",
        "    t=np.linspace(0,T,int(T/dt)) # time axis in ms\n",
        "\n",
        "    # input current\n",
        "    I_e=np.zeros(len(t)) # current measured in uA\n",
        "    I_e+=I*(t>20) # start injecting current at 20 ms\n",
        "\n",
        "    Vs=[]\n",
        "    j=0\n",
        "    while j<len(t):\n",
        "        n+=dt*(al_n(V)*(1-n)-be_n(V)*n)\n",
        "        m+=dt*(al_m(V)*(1-m)-be_m(V)*m)\n",
        "        h+=dt*(al_h(V)*(1-h)-be_h(V)*h)\n",
        "        V+=dt/c_m*(I_e[j]/A-i_m(V,n,m,h))\n",
        "        Vs+=[V]\n",
        "        j+=1\n",
        "\n",
        "    return t,np.array(Vs)"
      ]
    },
    {
      "cell_type": "code",
      "execution_count": null,
      "metadata": {
        "colab": {
          "base_uri": "https://localhost:8080/",
          "height": 253
        },
        "id": "sEDE0t_jXxtP",
        "outputId": "8dbe56b1-d4e3-4ea8-bc82-db341f16d607"
      },
      "outputs": [],
      "source": [
        "from matplotlib.gridspec import GridSpec\n",
        "Is=[0.002,0.005,0.01]\n",
        "t,v=sim_HH(Is[0])\n",
        "vs=[v]+[sim_HH(I)[1] for I in Is[1:]]\n",
        "fig,ax=plt.subplots(2,1,figsize=(4,2.5),gridspec_kw={'height_ratios':[5,1]},\n",
        "                   sharex=True)\n",
        "plot(t,vs,ylim=[E_K,E_Na],\n",
        "    #  legend=list(1000*np.array(Is)), # current in nA\n",
        "    ylabel='Voltage (mV)',axes=ax[0],linewidth=1);\n",
        "I=1.0*(t>20)\n",
        "plot(t,I,axes=ax[1],xlabel='Time (ms)',ylabel='Current',fmts=['k-'],linewidth=1,\n",
        "     ylim=[-0.1,1.1],xlim=[0,100]);\n",
        "ax[1].get_yaxis().set_ticks([]);\n",
        "ax[1].spines.right.set_visible(False)\n",
        "ax[1].spines.left.set_visible(False)\n",
        "ax[1].spines.top.set_visible(False)\n",
        "ax[0].spines.right.set_visible(False)\n",
        "ax[0].spines.top.set_visible(False)\n",
        "ax[0].legend(['2','5','10'], frameon=False, fontsize=10, loc='upper left', handlelength=0.8)\n",
        "fig.tight_layout()\n",
        "\n",
        "if Save:\n",
        "    fig.savefig(str(savedir / 'HH_Model_Spikes.pdf'), bbox_inches='tight')\n",
        "    fig.savefig(str(savedir / 'HH_Model_Spikes.svg'), bbox_inches='tight')"
      ]
    },
    {
      "cell_type": "code",
      "execution_count": null,
      "metadata": {
        "id": "c4tHG_MTXxtQ"
      },
      "outputs": [],
      "source": [
        "# response to voltage step\n",
        "def sim_HH_V(dV):\n",
        "    '''\n",
        "    Simulates response of the HH model to a voltage step dV (in mV)\n",
        "    Returns:\n",
        "    t=time series in ms\n",
        "    v=voltage series in mV\n",
        "    [n,m,h]=series of the gating variables\n",
        "    '''\n",
        "    # time scale\n",
        "    T=100 # duration in ms\n",
        "    dt=0.01 # time step in ms\n",
        "    t=np.linspace(0,T,int(T/dt)) # time axis in ms\n",
        "\n",
        "    # inputs\n",
        "    V_0=-65 # resting potential in mV\n",
        "    V=np.full(len(t),V_0) # voltage in mV\n",
        "    V+=dV*(t>20) # start voltage step at 20 ms\n",
        "    I_e=0 # no injected current\n",
        "\n",
        "    # initial conditions\n",
        "    n=n_inf(V_0)\n",
        "    m=m_inf(V_0)\n",
        "    h=h_inf(V_0)\n",
        "    j=0\n",
        "    Ns=[];Ms=[];Hs=[]\n",
        "    while j<len(t):\n",
        "        n+=dt*(al_n(V[j])*(1-n)-be_n(V[j])*n)\n",
        "        m+=dt*(al_m(V[j])*(1-m)-be_m(V[j])*m)\n",
        "        h+=dt*(al_h(V[j])*(1-h)-be_h(V[j])*h)\n",
        "        Ns+=[n];Ms+=[m];Hs+=[h]\n",
        "        j+=1\n",
        "\n",
        "    return t,V,np.array([Ns,Ms,Hs])"
      ]
    },
    {
      "cell_type": "code",
      "execution_count": null,
      "metadata": {
        "id": "yR1saZqvXxtQ"
      },
      "outputs": [],
      "source": [
        "t,V,Ps=sim_HH_V(40)"
      ]
    },
    {
      "cell_type": "code",
      "execution_count": null,
      "metadata": {
        "colab": {
          "base_uri": "https://localhost:8080/",
          "height": 304
        },
        "id": "UkDHeWhhXxtQ",
        "outputId": "741f475b-7a4c-4b6a-a3fa-1d2f6a67f593"
      },
      "outputs": [],
      "source": [
        "plot(t,Ps,legend=['n','m','h']);"
      ]
    },
    {
      "cell_type": "code",
      "execution_count": null,
      "metadata": {
        "colab": {
          "base_uri": "https://localhost:8080/",
          "height": 303
        },
        "id": "Yx8oY2RyXxtQ",
        "outputId": "c4da456c-dccf-46b9-eb84-7ca78657f615"
      },
      "outputs": [],
      "source": [
        "from matplotlib.gridspec import GridSpec\n",
        "fig,ax=plt.subplots(2,1,figsize=(5,3),gridspec_kw={'height_ratios':[5,1]},\n",
        "                   sharex=True)\n",
        "plot(t,[g_K*Ps[0]**4,g_Na*Ps[1]**3*Ps[2]],legend=['K','Na'],\n",
        "    ylabel='$g$ (mS/mm$^2$)',axes=ax[0],linewidth=1);\n",
        "plot(t,V,axes=ax[1],xlabel='Time (ms)',ylabel='$V_\\mathrm{mem}$ (mV)',fmts=['k-'],linewidth=1,\n",
        "     xlim=[0,100]);\n",
        "ax[1].spines.right.set_visible(False)\n",
        "ax[1].spines.top.set_visible(False)\n",
        "fig.tight_layout()\n",
        "\n",
        "if Save:\n",
        "    fig.savefig(str(savedir / 'HH_Model_V_clamp.pdf'), dpi=600, format='pdf', bbox_inches='tight');"
      ]
    }
  ],
  "metadata": {
    "colab": {
      "provenance": []
    },
    "kernelspec": {
      "display_name": "r-reticulate",
      "language": "python",
      "name": "python3"
    },
    "language_info": {
      "codemirror_mode": {
        "name": "ipython",
        "version": 3
      },
      "file_extension": ".py",
      "mimetype": "text/x-python",
      "name": "python",
      "nbconvert_exporter": "python",
      "pygments_lexer": "ipython3",
      "version": "3.8.13"
    }
  },
  "nbformat": 4,
  "nbformat_minor": 0
}
